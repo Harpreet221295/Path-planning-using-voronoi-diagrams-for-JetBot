{
 "cells": [
  {
   "cell_type": "code",
   "execution_count": 1,
   "id": "e50ac9cf",
   "metadata": {},
   "outputs": [],
   "source": [
    "import numpy as np\n",
    "from scipy.spatial import Voronoi, voronoi_plot_2d\n",
    "import matplotlib.pyplot as plt"
   ]
  },
  {
   "cell_type": "code",
   "execution_count": 143,
   "id": "5b9fce5e",
   "metadata": {},
   "outputs": [],
   "source": [
    "import matplotlib\n",
    "import math"
   ]
  },
  {
   "cell_type": "code",
   "execution_count": 21,
   "id": "de438b62",
   "metadata": {},
   "outputs": [],
   "source": [
    "import pandas as pd"
   ]
  },
  {
   "cell_type": "markdown",
   "id": "6204e579",
   "metadata": {},
   "source": [
    "Reading the Edge endpoint information generated from matlab"
   ]
  },
  {
   "cell_type": "code",
   "execution_count": 339,
   "id": "8a05f7c4",
   "metadata": {},
   "outputs": [],
   "source": [
    "ei = pd.read_csv(\"ei.csv\",header=None)"
   ]
  },
  {
   "cell_type": "code",
   "execution_count": 340,
   "id": "a56880fa",
   "metadata": {},
   "outputs": [],
   "source": [
    "ej = pd.read_csv(\"ej.csv\", header=None)"
   ]
  },
  {
   "cell_type": "code",
   "execution_count": 342,
   "id": "15f1906b",
   "metadata": {},
   "outputs": [
    {
     "data": {
      "text/html": [
       "<div>\n",
       "<style scoped>\n",
       "    .dataframe tbody tr th:only-of-type {\n",
       "        vertical-align: middle;\n",
       "    }\n",
       "\n",
       "    .dataframe tbody tr th {\n",
       "        vertical-align: top;\n",
       "    }\n",
       "\n",
       "    .dataframe thead th {\n",
       "        text-align: right;\n",
       "    }\n",
       "</style>\n",
       "<table border=\"1\" class=\"dataframe\">\n",
       "  <thead>\n",
       "    <tr style=\"text-align: right;\">\n",
       "      <th></th>\n",
       "      <th>0</th>\n",
       "      <th>1</th>\n",
       "      <th>2</th>\n",
       "      <th>3</th>\n",
       "      <th>4</th>\n",
       "      <th>5</th>\n",
       "      <th>6</th>\n",
       "      <th>7</th>\n",
       "      <th>8</th>\n",
       "      <th>9</th>\n",
       "      <th>...</th>\n",
       "      <th>23</th>\n",
       "      <th>24</th>\n",
       "      <th>25</th>\n",
       "      <th>26</th>\n",
       "      <th>27</th>\n",
       "      <th>28</th>\n",
       "      <th>29</th>\n",
       "      <th>30</th>\n",
       "      <th>31</th>\n",
       "      <th>32</th>\n",
       "    </tr>\n",
       "  </thead>\n",
       "  <tbody>\n",
       "    <tr>\n",
       "      <th>0</th>\n",
       "      <td>0.575</td>\n",
       "      <td>0</td>\n",
       "      <td>0</td>\n",
       "      <td>0</td>\n",
       "      <td>-0.575</td>\n",
       "      <td>0.531818</td>\n",
       "      <td>0.6375</td>\n",
       "      <td>0.5750</td>\n",
       "      <td>0.637500</td>\n",
       "      <td>-0.250000</td>\n",
       "      <td>...</td>\n",
       "      <td>0.531818</td>\n",
       "      <td>-0.531818</td>\n",
       "      <td>-0.25</td>\n",
       "      <td>0.25</td>\n",
       "      <td>-0.531818</td>\n",
       "      <td>-0.637500</td>\n",
       "      <td>-0.637500</td>\n",
       "      <td>-0.25</td>\n",
       "      <td>0.25</td>\n",
       "      <td>0.531818</td>\n",
       "    </tr>\n",
       "    <tr>\n",
       "      <th>1</th>\n",
       "      <td>0.000</td>\n",
       "      <td>0</td>\n",
       "      <td>0</td>\n",
       "      <td>0</td>\n",
       "      <td>0.000</td>\n",
       "      <td>0.637500</td>\n",
       "      <td>0.5750</td>\n",
       "      <td>0.6375</td>\n",
       "      <td>0.531818</td>\n",
       "      <td>-0.531818</td>\n",
       "      <td>...</td>\n",
       "      <td>3.063636</td>\n",
       "      <td>-3.063636</td>\n",
       "      <td>-0.25</td>\n",
       "      <td>0.25</td>\n",
       "      <td>-3.063636</td>\n",
       "      <td>-4.150694</td>\n",
       "      <td>-4.150694</td>\n",
       "      <td>-0.25</td>\n",
       "      <td>0.25</td>\n",
       "      <td>3.063636</td>\n",
       "    </tr>\n",
       "  </tbody>\n",
       "</table>\n",
       "<p>2 rows × 33 columns</p>\n",
       "</div>"
      ],
      "text/plain": [
       "      0   1   2   3      4         5       6       7         8         9   \\\n",
       "0  0.575   0   0   0 -0.575  0.531818  0.6375  0.5750  0.637500 -0.250000   \n",
       "1  0.000   0   0   0  0.000  0.637500  0.5750  0.6375  0.531818 -0.531818   \n",
       "\n",
       "   ...        23        24    25    26        27        28        29    30  \\\n",
       "0  ...  0.531818 -0.531818 -0.25  0.25 -0.531818 -0.637500 -0.637500 -0.25   \n",
       "1  ...  3.063636 -3.063636 -0.25  0.25 -3.063636 -4.150694 -4.150694 -0.25   \n",
       "\n",
       "     31        32  \n",
       "0  0.25  0.531818  \n",
       "1  0.25  3.063636  \n",
       "\n",
       "[2 rows x 33 columns]"
      ]
     },
     "execution_count": 342,
     "metadata": {},
     "output_type": "execute_result"
    }
   ],
   "source": [
    "ei"
   ]
  },
  {
   "cell_type": "code",
   "execution_count": 343,
   "id": "b4081255",
   "metadata": {},
   "outputs": [],
   "source": [
    "ei = ei.to_numpy()"
   ]
  },
  {
   "cell_type": "code",
   "execution_count": 344,
   "id": "76c13e6c",
   "metadata": {},
   "outputs": [
    {
     "data": {
      "text/plain": [
       "(2, 33)"
      ]
     },
     "execution_count": 344,
     "metadata": {},
     "output_type": "execute_result"
    }
   ],
   "source": [
    "ei.shape"
   ]
  },
  {
   "cell_type": "code",
   "execution_count": 345,
   "id": "ddc16c12",
   "metadata": {},
   "outputs": [],
   "source": [
    "ej = ej.to_numpy()"
   ]
  },
  {
   "cell_type": "code",
   "execution_count": 56,
   "id": "0cbc3073",
   "metadata": {},
   "outputs": [
    {
     "data": {
      "text/plain": [
       "(2, 33)"
      ]
     },
     "execution_count": 56,
     "metadata": {},
     "output_type": "execute_result"
    }
   ],
   "source": [
    "ej.shape"
   ]
  },
  {
   "cell_type": "code",
   "execution_count": 346,
   "id": "cdccd9c0",
   "metadata": {},
   "outputs": [
    {
     "data": {
      "image/png": "[encoded data removed]",
      "text/plain": [
       "<Figure size 432x288 with 1 Axes>"
      ]
     },
     "metadata": {
      "needs_background": "light"
     },
     "output_type": "display_data"
    }
   ],
   "source": [
    "for i in range(ei.shape[1]):\n",
    "    plt.plot([ei[0][i], ei[1][i]], [ej[0][i], ej[1][i]])"
   ]
  },
  {
   "cell_type": "code",
   "execution_count": 59,
   "id": "10e13e85",
   "metadata": {},
   "outputs": [
    {
     "data": {
      "text/plain": [
       "array([[ 0.575     ,  0.        ,  0.        ,  0.        , -0.575     ,\n",
       "         0.53181818,  0.6375    ,  0.575     ,  0.6375    , -0.25      ,\n",
       "         0.25      ,  0.        ,  0.53181818, -0.6375    , -0.6375    ,\n",
       "        -0.575     , -0.53181818, -0.53181818,  0.        , -0.25      ,\n",
       "         0.25      ,  0.6375    ,  0.6375    ,  0.53181818, -0.53181818,\n",
       "        -0.25      ,  0.25      , -0.53181818, -0.6375    , -0.6375    ,\n",
       "        -0.25      ,  0.25      ,  0.53181818],\n",
       "       [ 0.        ,  0.        ,  0.        ,  0.        ,  0.        ,\n",
       "         0.6375    ,  0.575     ,  0.6375    ,  0.53181818, -0.53181818,\n",
       "         0.        , -0.25      ,  0.25      , -0.53181818, -0.575     ,\n",
       "        -0.6375    , -0.6375    , -0.25      ,  0.25      ,  0.        ,\n",
       "         0.53181818,  4.15069442,  4.15069442,  3.06363636, -3.06363636,\n",
       "        -0.25      ,  0.25      , -3.06363636, -4.15069442, -4.15069442,\n",
       "        -0.25      ,  0.25      ,  3.06363636]])"
      ]
     },
     "execution_count": 59,
     "metadata": {},
     "output_type": "execute_result"
    }
   ],
   "source": [
    "ei"
   ]
  },
  {
   "cell_type": "code",
   "execution_count": 61,
   "id": "912147e5",
   "metadata": {},
   "outputs": [
    {
     "data": {
      "text/plain": [
       "array([[ 0.        ,  0.        ,  0.575     ,  0.        ,  0.        ,\n",
       "        -0.53181818, -0.25      ,  0.        ,  0.25      ,  0.6375    ,\n",
       "         0.6375    ,  0.575     ,  0.53181818, -0.25      ,  0.25      ,\n",
       "         0.        ,  0.53181818, -0.53181818, -0.575     , -0.6375    ,\n",
       "        -0.6375    , -0.25      ,  0.25      ,  0.53181818,  0.53181818,\n",
       "         0.6375    ,  0.6375    , -0.53181818, -0.25      ,  0.25      ,\n",
       "        -0.6375    , -0.6375    , -0.53181818],\n",
       "       [ 0.        ,  0.        ,  0.        , -0.575     ,  0.        ,\n",
       "        -0.25      ,  0.        ,  0.25      ,  0.53181818,  0.53181818,\n",
       "         0.575     ,  0.6375    ,  0.6375    , -0.53181818,  0.        ,\n",
       "        -0.25      ,  0.25      , -0.6375    , -0.6375    , -0.575     ,\n",
       "        -0.53181818, -0.25      ,  0.25      ,  3.06363636,  3.06363636,\n",
       "         4.15069442,  4.15069442, -3.06363636, -0.25      ,  0.25      ,\n",
       "        -4.15069442, -4.15069442, -3.06363636]])"
      ]
     },
     "execution_count": 61,
     "metadata": {},
     "output_type": "execute_result"
    }
   ],
   "source": [
    "ej"
   ]
  },
  {
   "cell_type": "markdown",
   "id": "ee187d32",
   "metadata": {},
   "source": [
    "Truncating the edge segments of voronoi diagram which are inside central obstacle or outside the arena"
   ]
  },
  {
   "cell_type": "code",
   "execution_count": 73,
   "id": "f33d6a0f",
   "metadata": {},
   "outputs": [],
   "source": [
    "from sympy import Point, Line, Segment"
   ]
  },
  {
   "cell_type": "code",
   "execution_count": 74,
   "id": "42725b08",
   "metadata": {},
   "outputs": [],
   "source": [
    "arena_border_points = [Point(-1, -1), Point(1, -1), Point(1, 1), Point(-1, 1)]"
   ]
  },
  {
   "cell_type": "code",
   "execution_count": 122,
   "id": "79ecdd4b",
   "metadata": {},
   "outputs": [],
   "source": [
    "voronoi_segments = []"
   ]
  },
  {
   "cell_type": "code",
   "execution_count": 123,
   "id": "5d174271",
   "metadata": {},
   "outputs": [
    {
     "name": "stdout",
     "output_type": "stream",
     "text": [
      "Segment2D(Point2D(23/40, 0), Point2D(0, 0))\n",
      "Point2D(0, 0)\n",
      "Segment2D(Point2D(0, 23/40), Point2D(0, 0))\n",
      "Segment2D(Point2D(0, 0), Point2D(0, -23/40))\n",
      "Segment2D(Point2D(-23/40, 0), Point2D(0, 0))\n",
      "Segment2D(Point2D(265909090909091/500000000000000, -265909090909091/500000000000000), Point2D(51/80, -1/4))\n",
      "Segment2D(Point2D(51/80, -1/4), Point2D(23/40, 0))\n",
      "Segment2D(Point2D(23/40, 0), Point2D(51/80, 1/4))\n",
      "Segment2D(Point2D(51/80, 1/4), Point2D(265909090909091/500000000000000, 265909090909091/500000000000000))\n",
      "Segment2D(Point2D(-1/4, 51/80), Point2D(-265909090909091/500000000000000, 265909090909091/500000000000000))\n",
      "Segment2D(Point2D(1/4, 51/80), Point2D(0, 23/40))\n",
      "Segment2D(Point2D(0, 23/40), Point2D(-1/4, 51/80))\n",
      "Segment2D(Point2D(265909090909091/500000000000000, 265909090909091/500000000000000), Point2D(1/4, 51/80))\n",
      "Segment2D(Point2D(-51/80, -1/4), Point2D(-265909090909091/500000000000000, -265909090909091/500000000000000))\n",
      "Segment2D(Point2D(-51/80, 1/4), Point2D(-23/40, 0))\n",
      "Segment2D(Point2D(-23/40, 0), Point2D(-51/80, -1/4))\n",
      "Segment2D(Point2D(-265909090909091/500000000000000, 265909090909091/500000000000000), Point2D(-51/80, 1/4))\n",
      "Segment2D(Point2D(-265909090909091/500000000000000, -265909090909091/500000000000000), Point2D(-1/4, -51/80))\n",
      "Segment2D(Point2D(0, -23/40), Point2D(1/4, -51/80))\n",
      "Segment2D(Point2D(-1/4, -51/80), Point2D(0, -23/40))\n",
      "Segment2D(Point2D(1/4, -51/80), Point2D(265909090909091/500000000000000, -265909090909091/500000000000000))\n",
      "Segment2D(Point2D(51/80, -1/4), Point2D(415069442098631/100000000000000, -1/4))\n",
      "Segment2D(Point2D(51/80, 1/4), Point2D(415069442098631/100000000000000, 1/4))\n",
      "Segment2D(Point2D(265909090909091/500000000000000, 265909090909091/500000000000000), Point2D(76590909090909/25000000000000, 76590909090909/25000000000000))\n",
      "Segment2D(Point2D(-265909090909091/500000000000000, 265909090909091/500000000000000), Point2D(-76590909090909/25000000000000, 76590909090909/25000000000000))\n",
      "Segment2D(Point2D(-1/4, 51/80), Point2D(-1/4, 415069442098631/100000000000000))\n",
      "Segment2D(Point2D(1/4, 51/80), Point2D(1/4, 415069442098631/100000000000000))\n",
      "Segment2D(Point2D(-265909090909091/500000000000000, -265909090909091/500000000000000), Point2D(-76590909090909/25000000000000, -76590909090909/25000000000000))\n",
      "Segment2D(Point2D(-51/80, -1/4), Point2D(-415069442098631/100000000000000, -1/4))\n",
      "Segment2D(Point2D(-51/80, 1/4), Point2D(-415069442098631/100000000000000, 1/4))\n",
      "Segment2D(Point2D(-1/4, -51/80), Point2D(-1/4, -415069442098631/100000000000000))\n",
      "Segment2D(Point2D(1/4, -51/80), Point2D(1/4, -415069442098631/100000000000000))\n",
      "Segment2D(Point2D(265909090909091/500000000000000, -265909090909091/500000000000000), Point2D(76590909090909/25000000000000, -76590909090909/25000000000000))\n"
     ]
    }
   ],
   "source": [
    "for i in range(ei.shape[1]):\n",
    "    end_point1 = Point(ei[0][i], ej[0][i])\n",
    "    end_point2 = Point(ei[1][i], ej[1][i])\n",
    "    S = Segment(end_point1, end_point2)\n",
    "    print(S)\n",
    "    voronoi_segments.append(S)"
   ]
  },
  {
   "cell_type": "code",
   "execution_count": 124,
   "id": "cc9aca2c",
   "metadata": {},
   "outputs": [
    {
     "name": "stdout",
     "output_type": "stream",
     "text": [
      "1\n"
     ]
    }
   ],
   "source": [
    "count = 0\n",
    "for i in voronoi_segments:\n",
    "    if isinstance(i, Point):\n",
    "        count = count+1\n",
    "print(count)"
   ]
  },
  {
   "cell_type": "code",
   "execution_count": 125,
   "id": "6cf2bb2d",
   "metadata": {},
   "outputs": [
    {
     "name": "stdout",
     "output_type": "stream",
     "text": [
      "[1, 3]\n"
     ]
    }
   ],
   "source": []
  },
  {
   "cell_type": "code",
   "execution_count": 110,
   "id": "9eee1d2b",
   "metadata": {},
   "outputs": [
    {
     "data": {
      "image/svg+xml": [
       "<svg xmlns=\"http://www.w3.org/2000/svg\"\n",
       "            xmlns:xlink=\"http://www.w3.org/1999/xlink\"\n",
       "            width=\"100.0\" height=\"100.0\" viewBox=\"-0.0575000000000000 -0.0575000000000000 0.690000000000000 0.115000000000000\"\n",
       "            preserveAspectRatio=\"xMinYMin meet\">\n",
       "            <defs>\n",
       "                <marker id=\"markerCircle\" markerWidth=\"8\" markerHeight=\"8\"\n",
       "                    refx=\"5\" refy=\"5\" markerUnits=\"strokeWidth\">\n",
       "                    <circle cx=\"5\" cy=\"5\" r=\"1.5\" style=\"stroke: none; fill:#000000;\"/>\n",
       "                </marker>\n",
       "                <marker id=\"markerArrow\" markerWidth=\"13\" markerHeight=\"13\" refx=\"2\" refy=\"4\"\n",
       "                       orient=\"auto\" markerUnits=\"strokeWidth\">\n",
       "                    <path d=\"M2,2 L2,6 L6,4\" style=\"fill: #000000;\" />\n",
       "                </marker>\n",
       "                <marker id=\"markerReverseArrow\" markerWidth=\"13\" markerHeight=\"13\" refx=\"6\" refy=\"4\"\n",
       "                       orient=\"auto\" markerUnits=\"strokeWidth\">\n",
       "                    <path d=\"M6,2 L6,6 L2,4\" style=\"fill: #000000;\" />\n",
       "                </marker>\n",
       "            </defs><g transform=\"matrix(1,0,0,-1,0,0)\"><path fill-rule=\"evenodd\" fill=\"#66cc99\" stroke=\"#555555\" stroke-width=\"0.0138000000000000\" opacity=\"0.6\" d=\"M 0.575000000000000,0 L 0,0\" /></g></svg>"
      ],
      "text/latex": [
       "$\\displaystyle Segment2D\\left(Point2D\\left(\\frac{23}{40}, 0\\right), Point2D\\left(0, 0\\right)\\right)$"
      ],
      "text/plain": [
       "Segment2D(Point2D(23/40, 0), Point2D(0, 0))"
      ]
     },
     "execution_count": 110,
     "metadata": {},
     "output_type": "execute_result"
    }
   ],
   "source": [
    "voronoi_segments[0]"
   ]
  },
  {
   "cell_type": "code",
   "execution_count": 126,
   "id": "a674eafa",
   "metadata": {},
   "outputs": [
    {
     "data": {
      "text/latex": [
       "$\\displaystyle Point2D\\left(0, 0\\right)$"
      ],
      "text/plain": [
       "Point2D(0, 0)"
      ]
     },
     "execution_count": 126,
     "metadata": {},
     "output_type": "execute_result"
    }
   ],
   "source": [
    "voronoi_segments.pop(1)"
   ]
  },
  {
   "cell_type": "code",
   "execution_count": 127,
   "id": "af060eaa",
   "metadata": {},
   "outputs": [],
   "source": [
    "arena_line_segments = []"
   ]
  },
  {
   "cell_type": "code",
   "execution_count": 128,
   "id": "3d76634f",
   "metadata": {},
   "outputs": [],
   "source": [
    "for i in range(4):\n",
    "    end_point1 = arena_border_points[i]\n",
    "    end_point2 = arena_border_points[(i+1)%4]\n",
    "    S = Segment(end_point1, end_point2)\n",
    "    arena_line_segments.append(S)"
   ]
  },
  {
   "cell_type": "code",
   "execution_count": 129,
   "id": "c35bca30",
   "metadata": {},
   "outputs": [
    {
     "data": {
      "image/svg+xml": [
       "<svg xmlns=\"http://www.w3.org/2000/svg\"\n",
       "            xmlns:xlink=\"http://www.w3.org/1999/xlink\"\n",
       "            width=\"100.0\" height=\"100.0\" viewBox=\"-1.20000000000000 -1.20000000000000 2.40000000000000 0.400000000000000\"\n",
       "            preserveAspectRatio=\"xMinYMin meet\">\n",
       "            <defs>\n",
       "                <marker id=\"markerCircle\" markerWidth=\"8\" markerHeight=\"8\"\n",
       "                    refx=\"5\" refy=\"5\" markerUnits=\"strokeWidth\">\n",
       "                    <circle cx=\"5\" cy=\"5\" r=\"1.5\" style=\"stroke: none; fill:#000000;\"/>\n",
       "                </marker>\n",
       "                <marker id=\"markerArrow\" markerWidth=\"13\" markerHeight=\"13\" refx=\"2\" refy=\"4\"\n",
       "                       orient=\"auto\" markerUnits=\"strokeWidth\">\n",
       "                    <path d=\"M2,2 L2,6 L6,4\" style=\"fill: #000000;\" />\n",
       "                </marker>\n",
       "                <marker id=\"markerReverseArrow\" markerWidth=\"13\" markerHeight=\"13\" refx=\"6\" refy=\"4\"\n",
       "                       orient=\"auto\" markerUnits=\"strokeWidth\">\n",
       "                    <path d=\"M6,2 L6,6 L2,4\" style=\"fill: #000000;\" />\n",
       "                </marker>\n",
       "            </defs><g transform=\"matrix(1,0,0,-1,0,-2.00000000000000)\"><path fill-rule=\"evenodd\" fill=\"#66cc99\" stroke=\"#555555\" stroke-width=\"0.0480000000000000\" opacity=\"0.6\" d=\"M -1.00000000000000,-1.00000000000000 L 1.00000000000000,-1.00000000000000\" /></g></svg>"
      ],
      "text/latex": [
       "$\\displaystyle Segment2D\\left(Point2D\\left(-1, -1\\right), Point2D\\left(1, -1\\right)\\right)$"
      ],
      "text/plain": [
       "Segment2D(Point2D(-1, -1), Point2D(1, -1))"
      ]
     },
     "execution_count": 129,
     "metadata": {},
     "output_type": "execute_result"
    }
   ],
   "source": [
    "arena_line_segments[0]"
   ]
  },
  {
   "cell_type": "code",
   "execution_count": 130,
   "id": "626d77a8",
   "metadata": {},
   "outputs": [
    {
     "data": {
      "text/plain": [
       "(Point2D(-1, -1), Point2D(1, -1))"
      ]
     },
     "execution_count": 130,
     "metadata": {},
     "output_type": "execute_result"
    }
   ],
   "source": [
    "arena_line_segments[0].points"
   ]
  },
  {
   "cell_type": "code",
   "execution_count": 131,
   "id": "c9268bb1",
   "metadata": {},
   "outputs": [
    {
     "data": {
      "text/latex": [
       "$\\displaystyle Point2D\\left(-1, -1\\right)$"
      ],
      "text/plain": [
       "Point2D(-1, -1)"
      ]
     },
     "execution_count": 131,
     "metadata": {},
     "output_type": "execute_result"
    }
   ],
   "source": [
    "arena_line_segments[0].points[0]"
   ]
  },
  {
   "cell_type": "code",
   "execution_count": 132,
   "id": "d968101a",
   "metadata": {},
   "outputs": [],
   "source": [
    "central_arena_point = Point(0,0)"
   ]
  },
  {
   "cell_type": "code",
   "execution_count": 133,
   "id": "c278983f",
   "metadata": {},
   "outputs": [],
   "source": [
    "def same_side(segment, point1, point2):\n",
    "    segment_ept1 = segment.points[0]\n",
    "    segment_ept2 = segment.points[1]\n",
    "    \n",
    "    if  segment_ept2[0] - segment_ept1[0] == 0:\n",
    "        cond1 = point1[0] - segment_ept1[0]\n",
    "        cond2 = point2[0] - segment_ept2[0]\n",
    "    \n",
    "    else:\n",
    "        m = (segment_ept2[1] - segment_ept1[1]) / (segment_ept2[0] - segment_ept1[0])\n",
    "        c = segment_ept1[1] - m*segment_ept1[0]\n",
    "    \n",
    "        cond1 = m*point1[0] - point1[1] + c\n",
    "        cond2 = m*point2[0] - point2[1] + c\n",
    "    \n",
    "    if cond1 * cond2 < 0:\n",
    "        return False\n",
    "    else:\n",
    "        return True"
   ]
  },
  {
   "cell_type": "code",
   "execution_count": 134,
   "id": "2efa223a",
   "metadata": {},
   "outputs": [
    {
     "data": {
      "text/plain": [
       "True"
      ]
     },
     "execution_count": 134,
     "metadata": {},
     "output_type": "execute_result"
    }
   ],
   "source": [
    "same_side(arena_line_segments[0],central_arena_point ,arena_border_points[2])"
   ]
  },
  {
   "cell_type": "code",
   "execution_count": 135,
   "id": "2bc8a50c",
   "metadata": {},
   "outputs": [
    {
     "data": {
      "text/plain": [
       "32"
      ]
     },
     "execution_count": 135,
     "metadata": {},
     "output_type": "execute_result"
    }
   ],
   "source": [
    "len(voronoi_segments)"
   ]
  },
  {
   "cell_type": "code",
   "execution_count": 149,
   "id": "beadbb4c",
   "metadata": {},
   "outputs": [],
   "source": [
    "voronoi_updated_segments = []"
   ]
  },
  {
   "cell_type": "code",
   "execution_count": 150,
   "id": "63065c84",
   "metadata": {},
   "outputs": [
    {
     "data": {
      "text/plain": [
       "[Segment2D(Point2D(23/40, 0), Point2D(0, 0)),\n",
       " Segment2D(Point2D(0, 23/40), Point2D(0, 0)),\n",
       " Segment2D(Point2D(0, 0), Point2D(0, -23/40)),\n",
       " Segment2D(Point2D(-23/40, 0), Point2D(0, 0)),\n",
       " Segment2D(Point2D(265909090909091/500000000000000, -265909090909091/500000000000000), Point2D(51/80, -1/4)),\n",
       " Segment2D(Point2D(51/80, -1/4), Point2D(23/40, 0)),\n",
       " Segment2D(Point2D(23/40, 0), Point2D(51/80, 1/4)),\n",
       " Segment2D(Point2D(51/80, 1/4), Point2D(265909090909091/500000000000000, 265909090909091/500000000000000)),\n",
       " Segment2D(Point2D(-1/4, 51/80), Point2D(-265909090909091/500000000000000, 265909090909091/500000000000000)),\n",
       " Segment2D(Point2D(1/4, 51/80), Point2D(0, 23/40)),\n",
       " Segment2D(Point2D(0, 23/40), Point2D(-1/4, 51/80)),\n",
       " Segment2D(Point2D(265909090909091/500000000000000, 265909090909091/500000000000000), Point2D(1/4, 51/80)),\n",
       " Segment2D(Point2D(-51/80, -1/4), Point2D(-265909090909091/500000000000000, -265909090909091/500000000000000)),\n",
       " Segment2D(Point2D(-51/80, 1/4), Point2D(-23/40, 0)),\n",
       " Segment2D(Point2D(-23/40, 0), Point2D(-51/80, -1/4)),\n",
       " Segment2D(Point2D(-265909090909091/500000000000000, 265909090909091/500000000000000), Point2D(-51/80, 1/4)),\n",
       " Segment2D(Point2D(-265909090909091/500000000000000, -265909090909091/500000000000000), Point2D(-1/4, -51/80)),\n",
       " Segment2D(Point2D(0, -23/40), Point2D(1/4, -51/80)),\n",
       " Segment2D(Point2D(-1/4, -51/80), Point2D(0, -23/40)),\n",
       " Segment2D(Point2D(1/4, -51/80), Point2D(265909090909091/500000000000000, -265909090909091/500000000000000)),\n",
       " Segment2D(Point2D(51/80, -1/4), Point2D(415069442098631/100000000000000, -1/4)),\n",
       " Segment2D(Point2D(51/80, 1/4), Point2D(415069442098631/100000000000000, 1/4)),\n",
       " Segment2D(Point2D(265909090909091/500000000000000, 265909090909091/500000000000000), Point2D(76590909090909/25000000000000, 76590909090909/25000000000000)),\n",
       " Segment2D(Point2D(-265909090909091/500000000000000, 265909090909091/500000000000000), Point2D(-76590909090909/25000000000000, 76590909090909/25000000000000)),\n",
       " Segment2D(Point2D(-1/4, 51/80), Point2D(-1/4, 415069442098631/100000000000000)),\n",
       " Segment2D(Point2D(1/4, 51/80), Point2D(1/4, 415069442098631/100000000000000)),\n",
       " Segment2D(Point2D(-265909090909091/500000000000000, -265909090909091/500000000000000), Point2D(-76590909090909/25000000000000, -76590909090909/25000000000000)),\n",
       " Segment2D(Point2D(-51/80, -1/4), Point2D(-415069442098631/100000000000000, -1/4)),\n",
       " Segment2D(Point2D(-51/80, 1/4), Point2D(-415069442098631/100000000000000, 1/4)),\n",
       " Segment2D(Point2D(-1/4, -51/80), Point2D(-1/4, -415069442098631/100000000000000)),\n",
       " Segment2D(Point2D(1/4, -51/80), Point2D(1/4, -415069442098631/100000000000000)),\n",
       " Segment2D(Point2D(265909090909091/500000000000000, -265909090909091/500000000000000), Point2D(76590909090909/25000000000000, -76590909090909/25000000000000))]"
      ]
     },
     "execution_count": 150,
     "metadata": {},
     "output_type": "execute_result"
    }
   ],
   "source": [
    "voronoi_segments"
   ]
  },
  {
   "cell_type": "markdown",
   "id": "7c447f51",
   "metadata": {},
   "source": [
    "Remove line segments passing through origin"
   ]
  },
  {
   "cell_type": "code",
   "execution_count": 151,
   "id": "ce5d72ad",
   "metadata": {},
   "outputs": [],
   "source": [
    "for i,seg in enumerate(voronoi_segments):\n",
    "    flag = False\n",
    "    for arena_seg in arena_line_segments:\n",
    "        pt_inter = seg.intersection(arena_seg)\n",
    "        if len(pt_inter) > 0:\n",
    "            intersection_point = pt_inter[0]\n",
    "            pt1 = seg.points[0]\n",
    "            pt2 = seg.points[1]\n",
    "            if same_side(arena_seg, central_arena_point, pt1):\n",
    "                voronoi_updated_segments.append(Segment(intersection_point, pt1))\n",
    "            else:\n",
    "                voronoi_updated_segments.append(Segment(intersection_point, pt1))\n",
    "            flag = True\n",
    "            break\n",
    "            \n",
    "    if not flag:\n",
    "        voronoi_updated_segments.append(seg)\n",
    "    \n",
    "    seg = voronoi_updated_segments[-1]\n",
    "    if len(seg.intersection(Point(central_arena_point))) > 0:\n",
    "        voronoi_updated_segments.pop()"
   ]
  },
  {
   "cell_type": "code",
   "execution_count": 152,
   "id": "29a101b7",
   "metadata": {},
   "outputs": [
    {
     "data": {
      "text/plain": [
       "[Segment2D(Point2D(265909090909091/500000000000000, -265909090909091/500000000000000), Point2D(51/80, -1/4)),\n",
       " Segment2D(Point2D(51/80, -1/4), Point2D(23/40, 0)),\n",
       " Segment2D(Point2D(23/40, 0), Point2D(51/80, 1/4)),\n",
       " Segment2D(Point2D(51/80, 1/4), Point2D(265909090909091/500000000000000, 265909090909091/500000000000000)),\n",
       " Segment2D(Point2D(-1/4, 51/80), Point2D(-265909090909091/500000000000000, 265909090909091/500000000000000)),\n",
       " Segment2D(Point2D(1/4, 51/80), Point2D(0, 23/40)),\n",
       " Segment2D(Point2D(0, 23/40), Point2D(-1/4, 51/80)),\n",
       " Segment2D(Point2D(265909090909091/500000000000000, 265909090909091/500000000000000), Point2D(1/4, 51/80)),\n",
       " Segment2D(Point2D(-51/80, -1/4), Point2D(-265909090909091/500000000000000, -265909090909091/500000000000000)),\n",
       " Segment2D(Point2D(-51/80, 1/4), Point2D(-23/40, 0)),\n",
       " Segment2D(Point2D(-23/40, 0), Point2D(-51/80, -1/4)),\n",
       " Segment2D(Point2D(-265909090909091/500000000000000, 265909090909091/500000000000000), Point2D(-51/80, 1/4)),\n",
       " Segment2D(Point2D(-265909090909091/500000000000000, -265909090909091/500000000000000), Point2D(-1/4, -51/80)),\n",
       " Segment2D(Point2D(0, -23/40), Point2D(1/4, -51/80)),\n",
       " Segment2D(Point2D(-1/4, -51/80), Point2D(0, -23/40)),\n",
       " Segment2D(Point2D(1/4, -51/80), Point2D(265909090909091/500000000000000, -265909090909091/500000000000000)),\n",
       " Segment2D(Point2D(1, -1/4), Point2D(51/80, -1/4)),\n",
       " Segment2D(Point2D(1, 1/4), Point2D(51/80, 1/4)),\n",
       " Segment2D(Point2D(1, 1), Point2D(265909090909091/500000000000000, 265909090909091/500000000000000)),\n",
       " Segment2D(Point2D(-1, 1), Point2D(-265909090909091/500000000000000, 265909090909091/500000000000000)),\n",
       " Segment2D(Point2D(-1/4, 1), Point2D(-1/4, 51/80)),\n",
       " Segment2D(Point2D(1/4, 1), Point2D(1/4, 51/80)),\n",
       " Segment2D(Point2D(-1, -1), Point2D(-265909090909091/500000000000000, -265909090909091/500000000000000)),\n",
       " Segment2D(Point2D(-1, -1/4), Point2D(-51/80, -1/4)),\n",
       " Segment2D(Point2D(-1, 1/4), Point2D(-51/80, 1/4)),\n",
       " Segment2D(Point2D(-1/4, -1), Point2D(-1/4, -51/80)),\n",
       " Segment2D(Point2D(1/4, -1), Point2D(1/4, -51/80)),\n",
       " Segment2D(Point2D(1, -1), Point2D(265909090909091/500000000000000, -265909090909091/500000000000000))]"
      ]
     },
     "execution_count": 152,
     "metadata": {},
     "output_type": "execute_result"
    }
   ],
   "source": [
    "voronoi_updated_segments"
   ]
  },
  {
   "cell_type": "markdown",
   "id": "eebf7b27",
   "metadata": {},
   "source": [
    "Plotting the final voronoi diagram"
   ]
  },
  {
   "cell_type": "code",
   "execution_count": 157,
   "id": "6f4bba0d",
   "metadata": {},
   "outputs": [
    {
     "data": {
      "text/plain": [
       "<matplotlib.patches.Rectangle at 0x7f833853ca30>"
      ]
     },
     "execution_count": 157,
     "metadata": {},
     "output_type": "execute_result"
    },
    {
     "data": {
      "image/png": "[encoded data removed]",
      "text/plain": [
       "<Figure size 432x288 with 1 Axes>"
      ]
     },
     "metadata": {
      "needs_background": "light"
     },
     "output_type": "display_data"
    }
   ],
   "source": [
    "for i,seg in enumerate(voronoi_updated_segments):\n",
    "    pt1 = seg.points[0]\n",
    "    pt2 = seg.points[1]\n",
    "    plt.plot([pt1[0], pt2[0]], [pt1[1], pt2[1]])\n",
    "    plt.text((pt1[0]+pt2[0])/2, (pt1[1]+pt2[1])/2, \"{0}\".format(i+1), fontsize = 15)\n",
    "rect1 = matplotlib.patches.Rectangle((-0.2, -0.2),0.4, 0.4,color ='blue')\n",
    "plt.gca().add_patch(rect1)"
   ]
  },
  {
   "cell_type": "code",
   "execution_count": 159,
   "id": "f797d769",
   "metadata": {},
   "outputs": [
    {
     "name": "stdout",
     "output_type": "stream",
     "text": [
      "[1] -> ((0.53, -0.53))   ((0.64, -0.25))\n",
      "[2] -> ((0.64, -0.25))   ((0.58, 0))\n",
      "[3] -> ((0.58, 0))   ((0.64, 0.25))\n",
      "[4] -> ((0.64, 0.25))   ((0.53, 0.53))\n",
      "[5] -> ((-0.25, 0.64))   ((-0.53, 0.53))\n",
      "[6] -> ((0.25, 0.64))   ((0, 0.58))\n",
      "[7] -> ((0, 0.58))   ((-0.25, 0.64))\n",
      "[8] -> ((0.53, 0.53))   ((0.25, 0.64))\n",
      "[9] -> ((-0.64, -0.25))   ((-0.53, -0.53))\n",
      "[10] -> ((-0.64, 0.25))   ((-0.58, 0))\n",
      "[11] -> ((-0.58, 0))   ((-0.64, -0.25))\n",
      "[12] -> ((-0.53, 0.53))   ((-0.64, 0.25))\n",
      "[13] -> ((-0.53, -0.53))   ((-0.25, -0.64))\n",
      "[14] -> ((0, -0.58))   ((0.25, -0.64))\n",
      "[15] -> ((-0.25, -0.64))   ((0, -0.58))\n",
      "[16] -> ((0.25, -0.64))   ((0.53, -0.53))\n",
      "[17] -> ((1, -0.25))   ((0.64, -0.25))\n",
      "[18] -> ((1, 0.25))   ((0.64, 0.25))\n",
      "[19] -> ((1, 1))   ((0.53, 0.53))\n",
      "[20] -> ((-1, 1))   ((-0.53, 0.53))\n",
      "[21] -> ((-0.25, 1))   ((-0.25, 0.64))\n",
      "[22] -> ((0.25, 1))   ((0.25, 0.64))\n",
      "[23] -> ((-1, -1))   ((-0.53, -0.53))\n",
      "[24] -> ((-1, -0.25))   ((-0.64, -0.25))\n",
      "[25] -> ((-1, 0.25))   ((-0.64, 0.25))\n",
      "[26] -> ((-0.25, -1))   ((-0.25, -0.64))\n",
      "[27] -> ((0.25, -1))   ((0.25, -0.64))\n",
      "[28] -> ((1, -1))   ((0.53, -0.53))\n"
     ]
    }
   ],
   "source": [
    "for i,seg in enumerate(voronoi_updated_segments):\n",
    "    print(\"[{0}] -> ({1})   ({2})\".format(i+1, (round(seg.points[0][0],2), round(seg.points[0][1],2)), (round(seg.points[1][0],2), round(seg.points[1][1],2))))"
   ]
  },
  {
   "cell_type": "code",
   "execution_count": 191,
   "id": "c736de6e",
   "metadata": {},
   "outputs": [],
   "source": [
    "Nodes_to_coord = {}\n",
    "coord_to_Node = {}\n",
    "num_nodes = 0"
   ]
  },
  {
   "cell_type": "code",
   "execution_count": 192,
   "id": "40a3d6db",
   "metadata": {},
   "outputs": [],
   "source": [
    "for i,seg in enumerate(voronoi_updated_segments):\n",
    "    if seg.points[0] not in coord_to_Node:\n",
    "        Nodes_to_coord[num_nodes+1] = (round(seg.points[0][0],2), round(seg.points[0][1],2))\n",
    "        coord_to_Node[seg.points[0]] = num_nodes+1\n",
    "    if seg.points[1] not in inv_Nodes_dict:\n",
    "        Nodes_to_coord[num_nodes+1] = (round(seg.points[1][0],2), round(seg.points[1][1],2))\n",
    "        coord_to_Node[seg.points[1]] = num_nodes+1\n",
    "    num_nodes = num_nodes+1"
   ]
  },
  {
   "cell_type": "code",
   "execution_count": 193,
   "id": "7cb62113",
   "metadata": {},
   "outputs": [
    {
     "data": {
      "text/plain": [
       "{1: (0.53, -0.53),\n",
       " 2: (0.64, -0.25),\n",
       " 3: (0.58, 0),\n",
       " 4: (0.64, 0.25),\n",
       " 5: (-0.25, 0.64),\n",
       " 6: (0.25, 0.64),\n",
       " 7: (0, 0.58),\n",
       " 8: (0.53, 0.53),\n",
       " 9: (-0.64, -0.25),\n",
       " 10: (-0.64, 0.25),\n",
       " 11: (-0.58, 0),\n",
       " 12: (-0.53, 0.53),\n",
       " 13: (-0.53, -0.53),\n",
       " 14: (0, -0.58),\n",
       " 15: (-0.25, -0.64),\n",
       " 16: (0.25, -0.64),\n",
       " 17: (1, -0.25),\n",
       " 18: (1, 0.25),\n",
       " 19: (1, 1),\n",
       " 20: (-1, 1),\n",
       " 21: (-0.25, 1),\n",
       " 22: (0.25, 1),\n",
       " 23: (-1, -1),\n",
       " 24: (-1, -0.25),\n",
       " 25: (-1, 0.25),\n",
       " 26: (-0.25, -1),\n",
       " 27: (0.25, -1),\n",
       " 28: (1, -1)}"
      ]
     },
     "execution_count": 193,
     "metadata": {},
     "output_type": "execute_result"
    }
   ],
   "source": [
    "Nodes_to_coord"
   ]
  },
  {
   "cell_type": "code",
   "execution_count": 194,
   "id": "0081420d",
   "metadata": {},
   "outputs": [],
   "source": [
    "Nodes_dict = Nodes_to_coord"
   ]
  },
  {
   "cell_type": "code",
   "execution_count": 198,
   "id": "faa524e8",
   "metadata": {},
   "outputs": [],
   "source": [
    "Edges_dict = {}\n",
    "num_edges = 0"
   ]
  },
  {
   "cell_type": "code",
   "execution_count": 199,
   "id": "6a27f135",
   "metadata": {},
   "outputs": [],
   "source": [
    "for i,seg in enumerate(voronoi_updated_segments):\n",
    "    Edges_dict[num_edges+1] = (coord_to_Node[seg.points[0]], coord_to_Node[seg.points[1]])\n",
    "    num_edges = num_edges+1\n",
    "    #Edges_dict[num_edges+1] = (coord_to_Node[seg.points[1]], coord_to_Node[seg.points[0]])\n",
    "    #num_edges = num_edges+1"
   ]
  },
  {
   "cell_type": "code",
   "execution_count": 200,
   "id": "aa34a095",
   "metadata": {},
   "outputs": [
    {
     "data": {
      "text/plain": [
       "{1: (1, 2),\n",
       " 2: (2, 3),\n",
       " 3: (3, 4),\n",
       " 4: (4, 8),\n",
       " 5: (5, 12),\n",
       " 6: (6, 7),\n",
       " 7: (7, 5),\n",
       " 8: (8, 6),\n",
       " 9: (9, 13),\n",
       " 10: (10, 11),\n",
       " 11: (11, 9),\n",
       " 12: (12, 10),\n",
       " 13: (13, 15),\n",
       " 14: (14, 16),\n",
       " 15: (15, 14),\n",
       " 16: (16, 1),\n",
       " 17: (17, 2),\n",
       " 18: (18, 4),\n",
       " 19: (19, 8),\n",
       " 20: (20, 12),\n",
       " 21: (21, 5),\n",
       " 22: (22, 6),\n",
       " 23: (23, 13),\n",
       " 24: (24, 9),\n",
       " 25: (25, 10),\n",
       " 26: (26, 15),\n",
       " 27: (27, 16),\n",
       " 28: (28, 1)}"
      ]
     },
     "execution_count": 200,
     "metadata": {},
     "output_type": "execute_result"
    }
   ],
   "source": [
    "Edges_dict"
   ]
  },
  {
   "cell_type": "code",
   "execution_count": 209,
   "id": "3eb50d62",
   "metadata": {},
   "outputs": [],
   "source": [
    "a"
   ]
  },
  {
   "cell_type": "code",
   "execution_count": 202,
   "id": "caf58ea3",
   "metadata": {},
   "outputs": [],
   "source": [
    "import networkx as nx"
   ]
  },
  {
   "cell_type": "code",
   "execution_count": 211,
   "id": "4237318f",
   "metadata": {},
   "outputs": [],
   "source": [
    "G = nx.Graph()"
   ]
  },
  {
   "cell_type": "code",
   "execution_count": 212,
   "id": "c879d15a",
   "metadata": {},
   "outputs": [],
   "source": [
    "for key in Edges_dict.keys():\n",
    "    G.add_edge(Edges_dict[key][0], Edges_dict[key][1], weight = compute_eucledian_distance(Nodes_dict[Edges_dict[key][0]], Nodes_dict[Edges_dict[key][1]]))"
   ]
  },
  {
   "cell_type": "code",
   "execution_count": 213,
   "id": "ff8d6ed6",
   "metadata": {},
   "outputs": [
    {
     "data": {
      "image/png": "[encoded data removed]",
      "text/plain": [
       "<Figure size 432x288 with 1 Axes>"
      ]
     },
     "metadata": {},
     "output_type": "display_data"
    }
   ],
   "source": [
    "nx.draw(G)"
   ]
  },
  {
   "cell_type": "code",
   "execution_count": 214,
   "id": "f41e796e",
   "metadata": {},
   "outputs": [
    {
     "data": {
      "text/plain": [
       "EdgeView([(1, 2), (1, 16), (1, 28), (2, 3), (2, 17), (3, 4), (4, 8), (4, 18), (8, 6), (8, 19), (5, 12), (5, 7), (5, 21), (12, 10), (12, 20), (6, 7), (6, 22), (9, 13), (9, 11), (9, 24), (13, 15), (13, 23), (10, 11), (10, 25), (15, 14), (15, 26), (14, 16), (16, 27)])"
      ]
     },
     "execution_count": 214,
     "metadata": {},
     "output_type": "execute_result"
    }
   ],
   "source": [
    "G.edges"
   ]
  },
  {
   "cell_type": "code",
   "execution_count": 215,
   "id": "874220f3",
   "metadata": {},
   "outputs": [
    {
     "data": {
      "text/plain": [
       "NodeView((1, 2, 3, 4, 8, 5, 12, 6, 7, 9, 13, 10, 11, 15, 14, 16, 17, 18, 19, 20, 21, 22, 23, 24, 25, 26, 27, 28))"
      ]
     },
     "execution_count": 215,
     "metadata": {},
     "output_type": "execute_result"
    }
   ],
   "source": [
    "G.nodes"
   ]
  },
  {
   "cell_type": "code",
   "execution_count": 219,
   "id": "883dd0d0",
   "metadata": {},
   "outputs": [
    {
     "data": {
      "text/plain": [
       "[1, 2, 3, 4, 8, 6, 7, 5, 12]"
      ]
     },
     "execution_count": 219,
     "metadata": {},
     "output_type": "execute_result"
    }
   ],
   "source": [
    "nx.dijkstra_path(G, 1, 12)"
   ]
  },
  {
   "cell_type": "code",
   "execution_count": 330,
   "id": "be4a5265",
   "metadata": {},
   "outputs": [
    {
     "data": {
      "text/plain": [
       "<matplotlib.patches.Rectangle at 0x7f834de8ce50>"
      ]
     },
     "execution_count": 330,
     "metadata": {},
     "output_type": "execute_result"
    },
    {
     "data": {
      "image/png": "[encoded data removed]",
      "text/plain": [
       "<Figure size 432x288 with 1 Axes>"
      ]
     },
     "metadata": {
      "needs_background": "light"
     },
     "output_type": "display_data"
    }
   ],
   "source": [
    "for i,seg in enumerate(voronoi_updated_segments):\n",
    "    pt1 = seg.points[0]\n",
    "    pt2 = seg.points[1]\n",
    "    plt.plot([pt1[0], pt2[0]], [pt1[1], pt2[1]])\n",
    "    #plt.text((pt1[0]+pt2[0])/2, (pt1[1]+pt2[1])/2, \"{0}\".format(i+1), fontsize = 15)\n",
    "for node in Nodes_dict.keys():\n",
    "    plt.text(Nodes_dict[node][0], Nodes_dict[node][1], \"{0}\".format(node), fontsize = 15)\n",
    "#plt.text((pt1[0]+pt2[0])/2, (pt1[1]+pt2[1])/2, \"{0}\".format(i+1), fontsize = 15)\n",
    "plt.xlabel(\"x-axis\")\n",
    "plt.ylabel(\"z-axis\")\n",
    "rect1 = matplotlib.patches.Rectangle((-0.2, -0.2),0.4, 0.4,color ='blue')\n",
    "plt.gca().add_patch(rect1)"
   ]
  },
  {
   "cell_type": "code",
   "execution_count": 223,
   "id": "b096e2cf",
   "metadata": {},
   "outputs": [
    {
     "data": {
      "text/plain": [
       "[12, 10, 11, 9, 13]"
      ]
     },
     "execution_count": 223,
     "metadata": {},
     "output_type": "execute_result"
    }
   ],
   "source": [
    "nx.dijkstra_path(G, 12, 13)"
   ]
  },
  {
   "cell_type": "code",
   "execution_count": 224,
   "id": "69032019",
   "metadata": {},
   "outputs": [],
   "source": [
    "import pickle"
   ]
  },
  {
   "cell_type": "code",
   "execution_count": 308,
   "id": "85ea5f3b",
   "metadata": {},
   "outputs": [],
   "source": [
    "pickle.dump(Nodes_dict, open( \"Nodes_dict\", \"wb\" ) , protocol=2)"
   ]
  },
  {
   "cell_type": "code",
   "execution_count": 309,
   "id": "f76d4da4",
   "metadata": {},
   "outputs": [],
   "source": [
    "pickle.dump(Edges_dict, open( \"Edges_dict\", \"wb\" ), protocol=2)"
   ]
  },
  {
   "cell_type": "code",
   "execution_count": 227,
   "id": "df12f9e0",
   "metadata": {},
   "outputs": [
    {
     "data": {
      "text/plain": [
       "{1: (0.53, -0.53),\n",
       " 2: (0.64, -0.25),\n",
       " 3: (0.58, 0),\n",
       " 4: (0.64, 0.25),\n",
       " 5: (-0.25, 0.64),\n",
       " 6: (0.25, 0.64),\n",
       " 7: (0, 0.58),\n",
       " 8: (0.53, 0.53),\n",
       " 9: (-0.64, -0.25),\n",
       " 10: (-0.64, 0.25),\n",
       " 11: (-0.58, 0),\n",
       " 12: (-0.53, 0.53),\n",
       " 13: (-0.53, -0.53),\n",
       " 14: (0, -0.58),\n",
       " 15: (-0.25, -0.64),\n",
       " 16: (0.25, -0.64),\n",
       " 17: (1, -0.25),\n",
       " 18: (1, 0.25),\n",
       " 19: (1, 1),\n",
       " 20: (-1, 1),\n",
       " 21: (-0.25, 1),\n",
       " 22: (0.25, 1),\n",
       " 23: (-1, -1),\n",
       " 24: (-1, -0.25),\n",
       " 25: (-1, 0.25),\n",
       " 26: (-0.25, -1),\n",
       " 27: (0.25, -1),\n",
       " 28: (1, -1)}"
      ]
     },
     "execution_count": 227,
     "metadata": {},
     "output_type": "execute_result"
    }
   ],
   "source": [
    "Nodes_dict"
   ]
  },
  {
   "cell_type": "code",
   "execution_count": 310,
   "id": "1dc20456",
   "metadata": {},
   "outputs": [
    {
     "data": {
      "text/plain": [
       "{1: (1, 2),\n",
       " 2: (2, 3),\n",
       " 3: (3, 4),\n",
       " 4: (4, 8),\n",
       " 5: (5, 12),\n",
       " 6: (6, 7),\n",
       " 7: (7, 5),\n",
       " 8: (8, 6),\n",
       " 9: (9, 13),\n",
       " 10: (10, 11),\n",
       " 11: (11, 9),\n",
       " 12: (12, 10),\n",
       " 13: (13, 15),\n",
       " 14: (14, 16),\n",
       " 15: (15, 14),\n",
       " 16: (16, 1),\n",
       " 17: (17, 2),\n",
       " 18: (18, 4),\n",
       " 19: (19, 8),\n",
       " 20: (20, 12),\n",
       " 21: (21, 5),\n",
       " 22: (22, 6),\n",
       " 23: (23, 13),\n",
       " 24: (24, 9),\n",
       " 25: (25, 10),\n",
       " 26: (26, 15),\n",
       " 27: (27, 16),\n",
       " 28: (28, 1)}"
      ]
     },
     "execution_count": 310,
     "metadata": {},
     "output_type": "execute_result"
    }
   ],
   "source": [
    "Edges_dict"
   ]
  },
  {
   "cell_type": "markdown",
   "id": "876bc088",
   "metadata": {},
   "source": [
    "Example run of Djikstra algorithm"
   ]
  },
  {
   "cell_type": "code",
   "execution_count": 228,
   "id": "32e189eb",
   "metadata": {},
   "outputs": [],
   "source": [
    "path = nx.dijkstra_path(G, 12, 13)"
   ]
  },
  {
   "cell_type": "code",
   "execution_count": 229,
   "id": "0ec576fc",
   "metadata": {},
   "outputs": [
    {
     "data": {
      "text/plain": [
       "[(-0.53, 0.53), (-0.64, 0.25), (-0.58, 0), (-0.64, -0.25), (-0.53, -0.53)]"
      ]
     },
     "execution_count": 229,
     "metadata": {},
     "output_type": "execute_result"
    }
   ],
   "source": [
    "[Nodes_dict[pt] for pt in path]"
   ]
  },
  {
   "cell_type": "code",
   "execution_count": 234,
   "id": "79566832",
   "metadata": {},
   "outputs": [],
   "source": [
    "from numpy import arccos, array\n",
    "from numpy.linalg import norm"
   ]
  },
  {
   "cell_type": "code",
   "execution_count": 235,
   "id": "00681cc0",
   "metadata": {},
   "outputs": [],
   "source": [
    "def theta(v, w): \n",
    "    return arccos(v.dot(w)/(norm(v)*norm(w)))"
   ]
  },
  {
   "cell_type": "markdown",
   "id": "a04d3b69",
   "metadata": {},
   "source": [
    "Scatter Plot of markers"
   ]
  },
  {
   "cell_type": "code",
   "execution_count": 329,
   "id": "57383b41",
   "metadata": {},
   "outputs": [
    {
     "data": {
      "text/plain": [
       "<matplotlib.patches.Rectangle at 0x7f834dc9fd90>"
      ]
     },
     "execution_count": 329,
     "metadata": {},
     "output_type": "execute_result"
    },
    {
     "data": {
      "image/png": "[encoded data removed]",
      "text/plain": [
       "<Figure size 432x288 with 1 Axes>"
      ]
     },
     "metadata": {
      "needs_background": "light"
     },
     "output_type": "display_data"
    }
   ],
   "source": [
    "plt.scatter([x[0] for x in landmarks], [x[1] for x in landmarks])\n",
    "labels = [5, 6, 7, 1, 4, 2, 3, 9, 8, 12, 11, 10]\n",
    "for id, marker in enumerate(landmarks):\n",
    "    plt.text(marker[0], marker[1], \" {0}\".format((marker[0], marker[1])), fontsize = 8)\n",
    "    plt.text(marker[0], marker[1]-0.1, \"Label: {0}\".format(labels[id]), fontsize = 8)\n",
    "plt.xlabel(\"x-axis\")\n",
    "plt.ylabel(\"z-axis\")\n",
    "rect1 = matplotlib.patches.Rectangle((-0.2, -0.2),0.4, 0.4,color ='blue')\n",
    "plt.gca().add_patch(rect1)"
   ]
  },
  {
   "cell_type": "markdown",
   "id": "4a07d30c",
   "metadata": {},
   "source": [
    "Final Nodes_dict"
   ]
  },
  {
   "cell_type": "code",
   "execution_count": 331,
   "id": "b573f3d2",
   "metadata": {},
   "outputs": [
    {
     "data": {
      "text/plain": [
       "{1: (0.53, -0.53),\n",
       " 2: (0.64, -0.25),\n",
       " 3: (0.58, 0),\n",
       " 4: (0.64, 0.25),\n",
       " 5: (-0.25, 0.64),\n",
       " 6: (0.25, 0.64),\n",
       " 7: (0, 0.58),\n",
       " 8: (0.53, 0.53),\n",
       " 9: (-0.64, -0.25),\n",
       " 10: (-0.64, 0.25),\n",
       " 11: (-0.58, 0),\n",
       " 12: (-0.53, 0.53),\n",
       " 13: (-0.53, -0.53),\n",
       " 14: (0, -0.58),\n",
       " 15: (-0.25, -0.64),\n",
       " 16: (0.25, -0.64),\n",
       " 17: (1, -0.25),\n",
       " 18: (1, 0.25),\n",
       " 19: (1, 1),\n",
       " 20: (-1, 1),\n",
       " 21: (-0.25, 1),\n",
       " 22: (0.25, 1),\n",
       " 23: (-1, -1),\n",
       " 24: (-1, -0.25),\n",
       " 25: (-1, 0.25),\n",
       " 26: (-0.25, -1),\n",
       " 27: (0.25, -1),\n",
       " 28: (1, -1)}"
      ]
     },
     "execution_count": 331,
     "metadata": {},
     "output_type": "execute_result"
    }
   ],
   "source": [
    "Nodes_dict"
   ]
  },
  {
   "cell_type": "markdown",
   "id": "25e9d65d",
   "metadata": {},
   "source": [
    "Final Edges_dict"
   ]
  },
  {
   "cell_type": "code",
   "execution_count": 332,
   "id": "7fa791ef",
   "metadata": {},
   "outputs": [
    {
     "data": {
      "text/plain": [
       "{1: (1, 2),\n",
       " 2: (2, 3),\n",
       " 3: (3, 4),\n",
       " 4: (4, 8),\n",
       " 5: (5, 12),\n",
       " 6: (6, 7),\n",
       " 7: (7, 5),\n",
       " 8: (8, 6),\n",
       " 9: (9, 13),\n",
       " 10: (10, 11),\n",
       " 11: (11, 9),\n",
       " 12: (12, 10),\n",
       " 13: (13, 15),\n",
       " 14: (14, 16),\n",
       " 15: (15, 14),\n",
       " 16: (16, 1),\n",
       " 17: (17, 2),\n",
       " 18: (18, 4),\n",
       " 19: (19, 8),\n",
       " 20: (20, 12),\n",
       " 21: (21, 5),\n",
       " 22: (22, 6),\n",
       " 23: (23, 13),\n",
       " 24: (24, 9),\n",
       " 25: (25, 10),\n",
       " 26: (26, 15),\n",
       " 27: (27, 16),\n",
       " 28: (28, 1)}"
      ]
     },
     "execution_count": 332,
     "metadata": {},
     "output_type": "execute_result"
    }
   ],
   "source": [
    "Edges_dict"
   ]
  },
  {
   "cell_type": "code",
   "execution_count": null,
   "id": "afe967f1",
   "metadata": {},
   "outputs": [],
   "source": []
  }
 ],
 "metadata": {
  "kernelspec": {
   "display_name": "Python 3",
   "language": "python",
   "name": "python3"
  },
  "language_info": {
   "codemirror_mode": {
    "name": "ipython",
    "version": 3
   },
   "file_extension": ".py",
   "mimetype": "text/x-python",
   "name": "python",
   "nbconvert_exporter": "python",
   "pygments_lexer": "ipython3",
   "version": "3.9.1"
  }
 },
 "nbformat": 4,
 "nbformat_minor": 5
}
